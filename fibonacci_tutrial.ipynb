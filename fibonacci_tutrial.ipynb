{
 "cells": [
  {
   "cell_type": "markdown",
   "metadata": {},
   "source": [
    "# フィボナッチ数の課題をゆっくりやります\n",
    "$n$番目のフィボナッチ数を$F(n)$で表す。\n",
    "この時の関数$F(n)$を`def fib(n):`に続けて実装してみてください。\n",
    "ただし$$F(0) = 0, F(1) = 1, F(n) = F(n-1) + F(n-2) (n >= 2)$$とします。\n",
    "最初は自分の頭で考えてみて，5分～15分考えてわからなければ検索・相談しましょう。\n",
    "なるべく処理が早いほうがいい。\n",
    "n=2018のときいくつか。\n"
   ]
  },
  {
   "cell_type": "markdown",
   "metadata": {},
   "source": [
    "まず，$F(10)$までを手計算で計算して見ましょう。\n",
    "次に，それをプログラミングしてみましょう。"
   ]
  },
  {
   "cell_type": "code",
   "execution_count": 11,
   "metadata": {},
   "outputs": [
    {
     "name": "stdout",
     "output_type": "stream",
     "text": [
      "55\n"
     ]
    }
   ],
   "source": [
    "a_0 = 0\n",
    "a_1 = 1\n",
    "a_2 = a_1 + a_0\n",
    "a_3 = a_2 + a_2\n",
    "\n",
    "# ここにa_10までを計算するように書く\n",
    "a_4 = a_3 + a_2\n",
    "a_5 = a_4 + a_3\n",
    "a_6 = a_5 + a_4\n",
    "a_7 = a_6 + a_5\n",
    "a_8 = a_7 + a_6\n",
    "a_9 = a_8 + a_7\n",
    "a_10 = a_9 + a_8\n",
    "\n",
    "print(a_10)"
   ]
  },
  {
   "cell_type": "markdown",
   "metadata": {},
   "source": [
    "繰り返し部分をforループで書いてみましょう。"
   ]
  },
  {
   "cell_type": "code",
   "execution_count": 4,
   "metadata": {
    "scrolled": true
   },
   "outputs": [
    {
     "name": "stdout",
     "output_type": "stream",
     "text": [
      "[0, 1, 2, 3, 4, 5, 6, 7, 8, 9]\n",
      "[2, 3, 4, 5, 6, 7, 8, 9, 10]\n"
     ]
    }
   ],
   "source": [
    "# range関数がどのような出力なのか確認\n",
    "print(list(range(10)))\n",
    "print(list(range(2, 11)))"
   ]
  },
  {
   "cell_type": "code",
   "execution_count": 46,
   "metadata": {},
   "outputs": [
    {
     "name": "stdout",
     "output_type": "stream",
     "text": [
      "2 2\n",
      "3 3\n",
      "4 5\n",
      "5 8\n",
      "6 13\n",
      "7 21\n",
      "8 34\n",
      "9 55\n",
      "10 89\n"
     ]
    }
   ],
   "source": [
    "a_0 = 0\n",
    "a_1 = 1\n",
    "\n",
    "a_i_1 = a_0\n",
    "a_i_2 = a_1\n",
    "a_i = a_i_1 + a_i_2\n",
    "\n",
    "#このforループの中を編集してやってみましょう。\n",
    "for i in range(2,11):\n",
    "    a_i_1 = a_i_2\n",
    "    a_i_2 = a_i\n",
    "    a_i = a_i_1 + a_i_2\n",
    "    print(i, a_i)\n",
    "\n",
    "#a_10 = a_i\n",
    "#print(a_10)"
   ]
  },
  {
   "cell_type": "markdown",
   "metadata": {},
   "source": [
    "nまで計算できるように編集してみましょう。\n"
   ]
  },
  {
   "cell_type": "code",
   "execution_count": 67,
   "metadata": {},
   "outputs": [
    {
     "name": "stdout",
     "output_type": "stream",
     "text": [
      "2 2\n",
      "3 3\n",
      "4 5\n",
      "5 8\n",
      "6 13\n",
      "7 21\n",
      "8 34\n",
      "9 55\n",
      "10 89\n"
     ]
    }
   ],
   "source": [
    "#ここにプログラムを書く\n",
    "n = 10\n",
    "\n",
    "a_0 = 0\n",
    "a_1 = 1\n",
    "\n",
    "a_i_1 = a_0\n",
    "a_i_2 = a_1\n",
    "a_i = a_i_1 + a_i_2\n",
    "\n",
    "#このforループの中を編集してやってみましょう。\n",
    "for i in range(2,n + 1):\n",
    "    a_i_1 = a_i_2\n",
    "    a_i_2 = a_i\n",
    "    a_i = a_i_1 + a_i_2\n",
    "    print(i, a_i)\n",
    "\n",
    "#print(n, a_i)"
   ]
  },
  {
   "cell_type": "markdown",
   "metadata": {},
   "source": [
    "defを使って関数にしてみましょう。"
   ]
  },
  {
   "cell_type": "code",
   "execution_count": 69,
   "metadata": {},
   "outputs": [
    {
     "name": "stdout",
     "output_type": "stream",
     "text": [
      "89\n"
     ]
    }
   ],
   "source": [
    "def fib(n):\n",
    "    #ここにプログラムを書く\n",
    "    \n",
    "    a_0 = 0\n",
    "  \n",
    "    a_i_1 = a_0\n",
    "    a_i_2 = a_1\n",
    "    a_i = a_i_1 + a_i_2\n",
    "    \n",
    "    for i in range(2,n + 1):\n",
    "        a_i_1 = a_i_2\n",
    "        a_i_2 = a_i\n",
    "        a_i = a_i_1 + a_i_2       \n",
    "        \n",
    "    return a_i\n",
    "\n",
    "print(fib(10))"
   ]
  },
  {
   "cell_type": "markdown",
   "metadata": {},
   "source": [
    "リストを使ってやってみましょう"
   ]
  },
  {
   "cell_type": "code",
   "execution_count": 71,
   "metadata": {},
   "outputs": [
    {
     "name": "stdout",
     "output_type": "stream",
     "text": [
      "[0, 1, 1, 2, 3, 5, 8, 13, 21, 34, 55]\n"
     ]
    }
   ],
   "source": [
    "def fib_list(n):\n",
    "    result = [0, 1]\n",
    "    #ここにプログラムを書く\n",
    "    for i in range(2, n+1):\n",
    "        result.append(result[-1]+result[-2])\n",
    "    return result\n",
    "\n",
    "print(fib_list(10))"
   ]
  },
  {
   "cell_type": "markdown",
   "metadata": {},
   "source": [
    "$m$以下で最大のフィボナッチ数の$n$を求める関数を`argfib(m)`という名前でつくる\n",
    "m=2018のときいくつか。"
   ]
  },
  {
   "cell_type": "markdown",
   "metadata": {},
   "source": [
    "まずは先ほど作った関数を用いてwhileループを使ってやってみましょう。"
   ]
  },
  {
   "cell_type": "code",
   "execution_count": 78,
   "metadata": {},
   "outputs": [
    {
     "name": "stdout",
     "output_type": "stream",
     "text": [
      "0 0\n",
      "1 1\n",
      "2 1\n",
      "3 1\n",
      "4 2\n",
      "5 3\n",
      "6 5\n",
      "7 8\n",
      "8 13\n",
      "9 21\n",
      "10 34\n",
      "11 55\n",
      "12 89\n",
      "13 144\n",
      "14 233\n",
      "15 377\n",
      "16 610\n",
      "17 987\n",
      "18 1597\n"
     ]
    }
   ],
   "source": [
    "m = 2018\n",
    "i = 0\n",
    "a_i = 0\n",
    "while a_i<=m:\n",
    "    #ここにプログラムを書く\n",
    "    result =  fib_list(i)\n",
    "    print(i, a_i)\n",
    "    a_i = result[-1]\n",
    "    i = i + 1"
   ]
  },
  {
   "cell_type": "markdown",
   "metadata": {},
   "source": [
    "他の書き方もやってみましょう。"
   ]
  }
 ],
 "metadata": {
  "kernelspec": {
   "display_name": "Python 3",
   "language": "python",
   "name": "python3"
  },
  "language_info": {
   "codemirror_mode": {
    "name": "ipython",
    "version": 3
   },
   "file_extension": ".py",
   "mimetype": "text/x-python",
   "name": "python",
   "nbconvert_exporter": "python",
   "pygments_lexer": "ipython3",
   "version": "3.7.0"
  }
 },
 "nbformat": 4,
 "nbformat_minor": 2
}
